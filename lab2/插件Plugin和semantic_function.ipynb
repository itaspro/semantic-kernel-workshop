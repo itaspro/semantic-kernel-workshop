{
 "cells": [
  {
   "cell_type": "markdown",
   "metadata": {},
   "source": [
    "# Plugin 与 function\n",
    "插件是Semantic Kernel最重要的基本构建模块之一。通过插件，您可以将功能封装到一个单一的功能单元中，然后由内核Kernel运行。\n",
    "\n",
    "插件可以包含本地代码和通过语义函数向AI服务发送的请求。\n",
    "\n",
    "在一个插件内，您可以创建两种类型的函数：Semantic Function 和 Native Function"
   ]
  },
  {
   "cell_type": "markdown",
   "metadata": {},
   "source": [
    "## Semantic Function\n",
    "简单的说，Semantic Function实质是封装的 Prompt Template 与 API 参数.\n",
    "\n",
    "在上个Lab中，我们见到的就是 Semantic Function。\n",
    "\n",
    "当时为简单起见的我们将 Semantic Function 定义在代码当中， 并省略了参数部分。\n",
    "\n",
    "在此Lab, 我们将更详细的介绍 Semantic Function， 它的不同形态与参数含义。\n",
    "\n"
   ]
  },
  {
   "cell_type": "markdown",
   "metadata": {},
   "source": []
  },
  {
   "cell_type": "markdown",
   "metadata": {},
   "source": [
    "1: 首先还是创建Kernel，这部分与上个Lab一样、"
   ]
  },
  {
   "cell_type": "code",
   "execution_count": 1,
   "metadata": {
    "dotnet_interactive": {
     "language": "csharp"
    },
    "polyglot_notebook": {
     "kernelName": "csharp"
    },
    "vscode": {
     "languageId": "polyglot-notebook"
    }
   },
   "outputs": [
    {
     "data": {
      "text/html": [
       "<div><div></div><div></div><div><strong>Installed Packages</strong><ul><li><span>Microsoft.Extensions.Logging.Console, 6.0.0</span></li><li><span>Microsoft.SemanticKernel, 1.0.0-beta8</span></li></ul></div></div>"
      ]
     },
     "metadata": {},
     "output_type": "display_data"
    }
   ],
   "source": [
    "// 安装 nuget 包\n",
    "#r \"nuget: Microsoft.SemanticKernel, 1.0.0-beta8\"\n",
    "#r \"nuget: Microsoft.Extensions.Logging.Console, 6.0.0.0\"\n",
    "\n",
    "// 如遇到这个错误请忽略并继续。 Error: Microsoft.Extensions.Logging.Console version 6.0.0.0 cannot be added because version 6.0.0 was added previously"
   ]
  },
  {
   "cell_type": "code",
   "execution_count": 2,
   "metadata": {
    "dotnet_interactive": {
     "language": "csharp"
    },
    "polyglot_notebook": {
     "kernelName": "csharp"
    },
    "vscode": {
     "languageId": "polyglot-notebook"
    }
   },
   "outputs": [],
   "source": [
    "using Microsoft.Extensions.Logging;\n",
    "using Microsoft.SemanticKernel;\n",
    "\n",
    "//Create Kernel builder\n",
    "var builder = new KernelBuilder();\n",
    "\n",
    "//此lab中我们使用OPENAI服务. 如使用Azure OPENAI，请取消以下注释\n",
    "/*\n",
    "var model = \"gpt-35-turbo\";\n",
    "var apiKey = \"<your apikey>\";\n",
    "azureEndpoint=\"<your azure openai endpoint>\";\n",
    "ArgumentNullException.ThrowIfNull(apiKey);\n",
    "ArgumentNullException.ThrowIfNull(azureEndpoint);\n",
    "builder.WithAzureOpenAIChatCompletionService(model, azureEndpoint, apiKey);\n",
    "*/\n",
    "var model = \"gpt-3.5-turbo-1106\";\n",
    "var apiKey = Environment.GetEnvironmentVariable(\"OPENAI__APIKEY\");\n",
    "\n",
    "ArgumentNullException.ThrowIfNull(apiKey);\n",
    "\n",
    "var loggerFactory = LoggerFactory.Create(builder => { \n",
    "    builder.SetMinimumLevel(LogLevel.Information);  \n",
    "    builder.AddConsole(); });\n",
    "\n",
    "var kernel = builder\n",
    ".WithLoggerFactory(loggerFactory)\n",
    ".WithOpenAIChatCompletionService(model, apiKey)\n",
    ".Build();"
   ]
  },
  {
   "cell_type": "markdown",
   "metadata": {},
   "source": [
    "2： 此处的 JokeFunc 是以文本形式创建在 ./plugins/FunPlugin目录下。\n",
    "\n",
    "我们来看看 ./plugins/FunPlugin目录\n",
    "FunPlugin 是 Plugin 的名称，它下面的子目录为Semantic Function. \n",
    "每个Semantic Function 都包含两个文件 skprompt.txt, config.json"
   ]
  },
  {
   "cell_type": "markdown",
   "metadata": {},
   "source": [
    "\n",
    "skprompt.txt 的内容即是 Prompt Template. \n",
    "\n",
    "\n",
    "```\n",
    "\"请生成一个关于 {{ $input}} 的笑话, 要求用{{ $style }}幽默\";\n",
    "```\n",
    "\n",
    " $input， $style  将由输入的variables 替换。"
   ]
  },
  {
   "cell_type": "markdown",
   "metadata": {},
   "source": [
    "config.json 很好理解。\n",
    "需要注意的是 \"temperature\". 这个阐述范围从0 到 1 表示模型可以自由发挥的程度。如需要高一致性的结果，通常会将temperature 设成 0.\n",
    "\n",
    "```\n",
    "\n",
    "{\n",
    "    \"schema\": 1,\n",
    "    \"description\": \"Generate a funny joke\",\n",
    "    \"models\": [\n",
    "      {\n",
    "        \"max_tokens\": 1000,\n",
    "        \"temperature\": 0.9,\n",
    "        \"top_p\": 0.0,\n",
    "        \"presence_penalty\": 0.0,\n",
    "        \"frequency_penalty\": 0.0\n",
    "      }\n",
    "    ],\n",
    "    \"input\": {\n",
    "      \"parameters\": [\n",
    "        {\n",
    "          \"name\": \"input\",\n",
    "          \"description\": \"笑话的主题\",\n",
    "          \"defaultValue\": \"\"\n",
    "        }\n",
    "        ，\n",
    "        {\n",
    "          \"name\": \"style\",\n",
    "          \"description\": \"幽默类型\"\n",
    "        }\n",
    "      ]\n",
    "    }\n",
    "  }\n",
    "  \n",
    "```"
   ]
  },
  {
   "cell_type": "markdown",
   "metadata": {},
   "source": [
    "3： 将Plugin导入Kernel"
   ]
  },
  {
   "cell_type": "code",
   "execution_count": 3,
   "metadata": {
    "dotnet_interactive": {
     "language": "csharp"
    },
    "polyglot_notebook": {
     "kernelName": "csharp"
    },
    "vscode": {
     "languageId": "polyglot-notebook"
    }
   },
   "outputs": [],
   "source": [
    "using System.IO;\n",
    "var pluginsDirectory = Path.Combine(System.IO.Directory.GetCurrentDirectory(),  \"plugins\");\n",
    "var funPluginFunctions = kernel.ImportSemanticFunctionsFromDirectory(pluginsDirectory, \"FunPlugin\");\n",
    "var jokeFunc = funPluginFunctions[\"joke\"];\n"
   ]
  },
  {
   "cell_type": "markdown",
   "metadata": {},
   "source": [
    "注意，上个lab的 JokeFunc 我们只用到一个`$input`变量。所有输入值如无变量名则默认是`$input`. 此处我们需要输入两个变量, 需要用到 ContextVariables 来传递。"
   ]
  },
  {
   "cell_type": "code",
   "execution_count": 6,
   "metadata": {
    "dotnet_interactive": {
     "language": "csharp"
    },
    "polyglot_notebook": {
     "kernelName": "csharp"
    },
    "vscode": {
     "languageId": "polyglot-notebook"
    }
   },
   "outputs": [
    {
     "name": "stdout",
     "output_type": "stream",
     "text": [
      "为了避免冷战升级，加拿大政府决定将所有冰球队解散。结果，全国范围内发生了一场“冰球战争”，只不过所有人都在道歉。\r\n"
     ]
    },
    {
     "data": {
      "text/html": [
       "<details open=\"open\" class=\"dni-treeview\"><summary><span class=\"dni-code-hint\"><code>为了避免冷战升级，加拿大政府决定将所有冰球队解散。结果，全国范围内发生了一场“冰球战争”，只不过所有人都在道歉。</code></span></summary><div><table><thead><tr></tr></thead><tbody><tr><td>FunctionName</td><td><div class=\"dni-plaintext\"><pre>joke</pre></div></td></tr><tr><td>PluginName</td><td><div class=\"dni-plaintext\"><pre>FunPlugin</pre></div></td></tr><tr><td>Metadata</td><td><table><thead><tr><th><i>key</i></th><th><i>type</i></th><th>value</th></tr></thead><tbody><tr><td><div class=\"dni-plaintext\"><pre>ModelResults</pre></div></td><td><span><a href=\"https://docs.microsoft.com/dotnet/api/microsoft.semantickernel.orchestration.modelresult[]?view=net-7.0\">Microsoft.SemanticKernel.Orchestration.ModelResult[]</a></span></td><td><table><thead><tr><th><i>index</i></th><th>value</th></tr></thead><tbody><tr><td>0</td><td><details class=\"dni-treeview\"><summary><span class=\"dni-code-hint\"><code>Microsoft.SemanticKernel.Orchestration.ModelResult</code></span></summary><div><table><thead><tr></tr></thead><tbody></tbody></table></div></details></td></tr></tbody></table></td></tr><tr><td><div class=\"dni-plaintext\"><pre>RenderedPrompt</pre></div></td><td><span><a href=\"https://docs.microsoft.com/dotnet/api/system.string?view=net-7.0\">System.String</a></span></td><td><div class=\"dni-plaintext\"><pre>请生成一个关于 加拿大 的笑话, 要求用黑色幽默</pre></div></td></tr></tbody></table></td></tr></tbody></table></div></details><style>\r\n",
       ".dni-code-hint {\r\n",
       "    font-style: italic;\r\n",
       "    overflow: hidden;\r\n",
       "    white-space: nowrap;\r\n",
       "}\r\n",
       ".dni-treeview {\r\n",
       "    white-space: nowrap;\r\n",
       "}\r\n",
       ".dni-treeview td {\r\n",
       "    vertical-align: top;\r\n",
       "    text-align: start;\r\n",
       "}\r\n",
       "details.dni-treeview {\r\n",
       "    padding-left: 1em;\r\n",
       "}\r\n",
       "table td {\r\n",
       "    text-align: start;\r\n",
       "}\r\n",
       "table tr { \r\n",
       "    vertical-align: top; \r\n",
       "    margin: 0em 0px;\r\n",
       "}\r\n",
       "table tr td pre \r\n",
       "{ \r\n",
       "    vertical-align: top !important; \r\n",
       "    margin: 0em 0px !important;\r\n",
       "} \r\n",
       "table th {\r\n",
       "    text-align: start;\r\n",
       "}\r\n",
       "</style>"
      ]
     },
     "metadata": {},
     "output_type": "display_data"
    }
   ],
   "source": [
    "using Microsoft.SemanticKernel.Orchestration;\n",
    "var humberContext = new ContextVariables\n",
    "{\n",
    "    [\"input\"] = \"加拿大\",\n",
    "    [\"style\"] = \"黑色\"\n",
    "};\n",
    "\n",
    "var result = await kernel.RunAsync(jokeFunc, humberContext);\n",
    "\n",
    "\n",
    "Console.WriteLine(result.GetValue<string>());\n",
    "result.FunctionResults.First()"
   ]
  },
  {
   "cell_type": "markdown",
   "metadata": {},
   "source": [
    "3: 我们也可以在一个Semantic Function中来调用另外的 Function.请看以下例子。  `{{FunPlugin.joke $input}}`"
   ]
  },
  {
   "cell_type": "code",
   "execution_count": 11,
   "metadata": {
    "dotnet_interactive": {
     "language": "csharp"
    },
    "polyglot_notebook": {
     "kernelName": "csharp"
    },
    "vscode": {
     "languageId": "polyglot-notebook"
    }
   },
   "outputs": [
    {
     "name": "stdout",
     "output_type": "stream",
     "text": [
      "Why are Americans always late? Because they are always looking for their own free time! So, if you make an appointment to meet an American, it's best to push the time back an hour so they have enough time to find their own freedom!\r\n"
     ]
    }
   ],
   "source": [
    "const string translateFuncDefinition = \"请讲以下输入翻译成英文： {{FunPlugin.joke $input}}\";\n",
    "\n",
    "var translateToEngFunc = kernel.CreateSemanticFunction(translateFuncDefinition);\n",
    "var result2 = await kernel.RunAsync(\"United States\", jokeFunc, translateToEngFunc);\n",
    "Console.WriteLine(result2.GetValue<string>());"
   ]
  },
  {
   "cell_type": "markdown",
   "metadata": {},
   "source": [
    "# Native Function"
   ]
  },
  {
   "cell_type": "code",
   "execution_count": 15,
   "metadata": {
    "dotnet_interactive": {
     "language": "csharp"
    },
    "polyglot_notebook": {
     "kernelName": "csharp"
    },
    "vscode": {
     "languageId": "polyglot-notebook"
    }
   },
   "outputs": [
    {
     "ename": "Error",
     "evalue": "(13,32): error CS1061: 'SKContext' does not contain a definition for 'Plugins' and no accessible extension method 'Plugins' accepting a first argument of type 'SKContext' could be found (are you missing a using directive or an assembly reference?)",
     "output_type": "error",
     "traceback": [
      "(13,32): error CS1061: 'SKContext' does not contain a definition for 'Plugins' and no accessible extension method 'Plugins' accepting a first argument of type 'SKContext' could be found (are you missing a using directive or an assembly reference?)"
     ]
    }
   ],
   "source": [
    "using System.ComponentModel;\n",
    "using System.Globalization;\n",
    "using Microsoft.SemanticKernel;\n",
    "using Microsoft.SemanticKernel.Orchestration;\n",
    "public class Text\n",
    "{\n",
    "    private IDictionary<string, string> mem = new Dictionary<string, string>();\n",
    "\n",
    "    [SKFunction, Description(\"把文本转换存入字典\")]\n",
    "    public async void MemorizeToDict(string subject, SKContext context)\n",
    "    {\n",
    "        var key = subject.Trim().ToLowerInvariant();\n",
    "        var jokeFunc = context.Plugins[\"FuncPlugin\"][\"joke\"];\n",
    "        var joke = await context.Runner.RunAsync(\"OpenAI\", jokeFunc);\n",
    "        mem[key] = joke;\n",
    "    }\n",
    "\n",
    "\n",
    "}"
   ]
  },
  {
   "cell_type": "markdown",
   "metadata": {},
   "source": [
    "## 实践：创建翻译法文的Semantic Function 并储存在 ./plugins/WritingPlug/TranslateFr下"
   ]
  },
  {
   "cell_type": "markdown",
   "metadata": {},
   "source": []
  }
 ],
 "metadata": {
  "language_info": {
   "name": "csharp"
  },
  "orig_nbformat": 4
 },
 "nbformat": 4,
 "nbformat_minor": 2
}
