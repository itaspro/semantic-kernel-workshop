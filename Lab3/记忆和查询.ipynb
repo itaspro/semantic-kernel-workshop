{
 "cells": [
  {
   "cell_type": "markdown",
   "metadata": {},
   "source": [
    "# Memory\n",
    "Open AI 和 Azure OpenAI的GPT模型没有记忆, 所的信息和输入要以上下文形式加人文本 Prompt， 通过API发送给AI模型. \n",
    "Semantic Kernel提供外部记忆来帮助存储和检索信息。"
   ]
  },
  {
   "cell_type": "markdown",
   "metadata": {},
   "source": [
    "## Embedding and Semantic Memory Search\n",
    "\n",
    "Embedding是将单词或其他数据表示为高维空间中的向量的一种方法。向量就像具有方向和长度的箭头。高维意味着空间具有许多维度，超过我们能看到或想象的范围。其核心思想是相似的单词或数据将具有相似的向量，而不同的单词或数据将具有不同的向量。这有助于我们测量它们之间的关系或无关性，并执行各种操作，如加法、减法、乘法等。嵌入对于人工智能模型非常有用，因为它们可以以计算机能够理解和处理的方式捕捉单词或数据的含义和上下文。\n",
    "\n",
    "基本上，你需要取一个句子、段落或整个文本页面，然后生成相应的嵌入向量。\n",
    "\n",
    "当进行查询时(Semantic Search)，将查询转换为其嵌入表示，然后通过所有现有的嵌入向量进行搜索，找到最相似的那些。这类似于在Bing上进行搜索查询，它会提供与您的查询接近的多个结果。语义记忆不太可能给您一个完全匹配的结果，但它总会给您一组按照您的查询与其他文本段相似程度排名的匹配结果。\n",
    "\n",
    "Semantic Kernel 提供了非常简洁易用的Interface 为我们完成任务并隐藏了细节。"
   ]
  },
  {
   "cell_type": "markdown",
   "metadata": {},
   "source": []
  },
  {
   "cell_type": "markdown",
   "metadata": {},
   "source": [
    "1: MemoryBuilder\n",
    "在 Semantic Kernel V1 （beta) 中， Memory 的配置已从 Kernel中独立出来\n",
    "我们现在创建一个Memory 对象，并配置内存作为记忆体。"
   ]
  },
  {
   "cell_type": "code",
   "execution_count": 1,
   "metadata": {
    "dotnet_interactive": {
     "language": "csharp"
    },
    "polyglot_notebook": {
     "kernelName": "csharp"
    },
    "vscode": {
     "languageId": "polyglot-notebook"
    }
   },
   "outputs": [
    {
     "data": {
      "text/html": [
       "<div><div></div><div></div><div><strong>Installed Packages</strong><ul><li><span>Microsoft.Extensions.Logging.Console, 6.0.0</span></li><li><span>Microsoft.SemanticKernel, 1.0.0-beta8</span></li><li><span>System.Linq.Async, 6.0.1</span></li></ul></div></div>"
      ]
     },
     "metadata": {},
     "output_type": "display_data"
    }
   ],
   "source": [
    "// 安装 nuget 包\n",
    "#r \"nuget: Microsoft.SemanticKernel, 1.0.0-beta8\"\n",
    "#r \"nuget: System.Linq.Async, 6.0.1\"\n",
    "#r \"nuget: Microsoft.Extensions.Logging.Console, 6.0.0.0\"\n",
    "\n",
    "\n",
    "// 如遇到这个错误请忽略并继续。 Error: Microsoft.Extensions.Logging.Console version 6.0.0.0 cannot be added because version 6.0.0 was added previously"
   ]
  },
  {
   "cell_type": "code",
   "execution_count": 2,
   "metadata": {
    "dotnet_interactive": {
     "language": "csharp"
    },
    "polyglot_notebook": {
     "kernelName": "csharp"
    },
    "vscode": {
     "languageId": "polyglot-notebook"
    }
   },
   "outputs": [],
   "source": [
    "using Microsoft.SemanticKernel.Plugins.Memory;\n",
    "using Microsoft.SemanticKernel.Connectors.AI.OpenAI;\n",
    "\n",
    "var model = \"text-embedding-ada-002\";\n",
    "var apiKey = Environment.GetEnvironmentVariable(\"OPENAI__APIKEY\");\n",
    "ArgumentNullException.ThrowIfNull(apiKey);\n",
    "\n",
    "var memoryBuilder = new MemoryBuilder();\n",
    "memoryBuilder.WithOpenAITextEmbeddingGenerationService(model, apiKey);\n",
    "\n",
    "memoryBuilder.WithMemoryStore(new VolatileMemoryStore());\n",
    "\n",
    "var memory = memoryBuilder.Build();"
   ]
  },
  {
   "cell_type": "markdown",
   "metadata": {},
   "source": [
    "在文件`fun_fact_about_contries.text`中包含了160多个国家的有趣信息, 让我们把它存入memory"
   ]
  },
  {
   "cell_type": "code",
   "execution_count": 15,
   "metadata": {
    "dotnet_interactive": {
     "language": "csharp"
    },
    "polyglot_notebook": {
     "kernelName": "csharp"
    },
    "vscode": {
     "languageId": "polyglot-notebook"
    }
   },
   "outputs": [],
   "source": [
    "using System.IO;\n",
    "string[] lines = File.ReadAllLines(\"fun_fact_about_contries.text\");\n",
    "\n",
    "var  i = 0;\n",
    "foreach (string line in lines) {\n",
    "\n",
    "    if (!String.IsNullOrEmpty(line)) {\n",
    "        await memory.SaveInformationAsync(\"FunFactAboutContries\", line, $\"id_{i++}\" , line);\n",
    "    }\n",
    "}"
   ]
  },
  {
   "cell_type": "markdown",
   "metadata": {},
   "source": [
    "现在我们就可以向这个文件提问题了。"
   ]
  },
  {
   "cell_type": "code",
   "execution_count": 21,
   "metadata": {
    "dotnet_interactive": {
     "language": "csharp"
    },
    "polyglot_notebook": {
     "kernelName": "csharp"
    },
    "vscode": {
     "languageId": "polyglot-notebook"
    }
   },
   "outputs": [
    {
     "name": "stdout",
     "output_type": "stream",
     "text": [
      "  Question   : which country makes most toys in the world\n",
      "  Fact   : China manufactures 70% of the world toys.\n",
      "  Relevance: 0.8835527300834656\n",
      "\n",
      "  Question   : 哪个国家拥有最多的湖泊\n",
      "  Fact   : Canada has the most lakes on the planet. There are more lakes in Canada than in every other country in the world put together.\n",
      "  Relevance: 0.7925511598587036\n",
      "\n"
     ]
    }
   ],
   "source": [
    "var q1 = \"which country makes most toys in the world\";\n",
    "var q2 = \"哪个国家拥有最多的湖泊\";\n",
    "\n",
    "var ask = async (string question) => {\n",
    "    var facts = memory.SearchAsync(\"FunFactAboutContries\", question,  limit: 1, minRelevanceScore: 0.7);\n",
    "\n",
    "    await foreach (var fact in facts)\n",
    "    {\n",
    "        Console.WriteLine(\"  Question   : \" + question);\n",
    "        Console.WriteLine(\"  Fact   : \" + fact.Metadata.Description);\n",
    "        Console.WriteLine(\"  Relevance: \" + fact.Relevance);\n",
    "        Console.WriteLine(\"\");\n",
    "    }\n",
    "};\n",
    "\n",
    "await ask(q1);\n",
    "await ask(q2);\n"
   ]
  },
  {
   "cell_type": "markdown",
   "metadata": {},
   "source": [
    "以上我们实际只需要用到 `ISemanticTextMemory`提供的`SaveInformationAsync`与`SearchAsync` 两个方法。 Semantic Kernel 将 向量生成，存储 和 查询 全部实现都隐藏在`SemanticTextMemory`实现中了。"
   ]
  },
  {
   "cell_type": "markdown",
   "metadata": {},
   "source": [
    "## 实践：修改上一个lab 中的 JokeFun, 从以上memory中找到关于一个国家的信息然后再生成一个 joke"
   ]
  },
  {
   "cell_type": "code",
   "execution_count": 23,
   "metadata": {
    "dotnet_interactive": {
     "language": "csharp"
    },
    "polyglot_notebook": {
     "kernelName": "csharp"
    },
    "vscode": {
     "languageId": "polyglot-notebook"
    }
   },
   "outputs": [
    {
     "ename": "Error",
     "evalue": "(1,1): error CS1024: Preprocessor directive expected",
     "output_type": "error",
     "traceback": [
      "(1,1): error CS1024: Preprocessor directive expected"
     ]
    }
   ],
   "source": [
    "\n",
    "// 安装 nuget 包\n",
    "#r \"nuget: Microsoft.SemanticKernel, 1.0.0-beta8\"\n",
    "#r \"nuget: Microsoft.Extensions.Logging.Console, 6.0.0.0\"\n",
    "\n",
    "// 如遇到这个错误请忽略并继续。 Error: Microsoft.Extensions.Logging.Console version 6.0.0.0 cannot be added because version 6.0.0 was added previously"
   ]
  },
  {
   "cell_type": "code",
   "execution_count": 24,
   "metadata": {
    "dotnet_interactive": {
     "language": "csharp"
    },
    "polyglot_notebook": {
     "kernelName": "csharp"
    },
    "vscode": {
     "languageId": "polyglot-notebook"
    }
   },
   "outputs": [],
   "source": [
    "using Microsoft.Extensions.Logging;\n",
    "using Microsoft.SemanticKernel;\n",
    "\n",
    "var builder = new KernelBuilder();\n",
    "\n",
    "var model = \"gpt-3.5-turbo-1106\";\n",
    "var apiKey = Environment.GetEnvironmentVariable(\"OPENAI__APIKEY\");\n",
    "\n",
    "ArgumentNullException.ThrowIfNull(apiKey);\n",
    "\n",
    "var loggerFactory = LoggerFactory.Create(builder => { \n",
    "    builder.SetMinimumLevel(LogLevel.Information);  \n",
    "    builder.AddConsole(); });\n",
    "\n",
    "var kernel = builder\n",
    ".WithLoggerFactory(loggerFactory)\n",
    ".WithOpenAIChatCompletionService(model, apiKey)\n",
    ".Build();\n",
    "\n"
   ]
  },
  {
   "cell_type": "code",
   "execution_count": 30,
   "metadata": {
    "dotnet_interactive": {
     "language": "csharp"
    },
    "polyglot_notebook": {
     "kernelName": "csharp"
    },
    "vscode": {
     "languageId": "polyglot-notebook"
    }
   },
   "outputs": [
    {
     "name": "stdout",
     "output_type": "stream",
     "text": [
      "在意大利，有一个喷泉24小时不间断地流淌着红酒。这让人想起一句话：如果你觉得生活像一杯红酒，那么在意大利，生活就像一个24小时不停止的自助餐厅。\r\n"
     ]
    }
   ],
   "source": [
    "using Microsoft.SemanticKernel.Orchestration;\n",
    "const string JokeFuncDefinition = \"请基于以下信息 {{ $fact }}，生成关与{{ $input}} 的段子, 要求用黑色幽默\";\n",
    "\n",
    "var jokeFunc = kernel.CreateSemanticFunction(JokeFuncDefinition);\n",
    "\n",
    "var question = \"24 小时流淌红酒的喷泉的国家\";\n",
    "\n",
    "var facts = memory.SearchAsync(\"FunFactAboutContries\", question,  limit: 1, minRelevanceScore: 0.7);\n",
    "\n",
    "await foreach (var fact in facts)\n",
    "{\n",
    "    var result = await kernel.RunAsync(jokeFunc, new ContextVariables() {\n",
    "    [\"input\"] = question,\n",
    "    [\"fact\"] = fact.Metadata.Description\n",
    "});\n",
    "    Console.WriteLine(result.GetValue<string>());\n",
    "\n",
    "}\n"
   ]
  },
  {
   "cell_type": "code",
   "execution_count": null,
   "metadata": {
    "dotnet_interactive": {
     "language": "csharp"
    },
    "polyglot_notebook": {
     "kernelName": "csharp"
    },
    "vscode": {
     "languageId": "polyglot-notebook"
    }
   },
   "outputs": [],
   "source": []
  }
 ],
 "metadata": {
  "language_info": {
   "name": "csharp"
  },
  "orig_nbformat": 4
 },
 "nbformat": 4,
 "nbformat_minor": 2
}
