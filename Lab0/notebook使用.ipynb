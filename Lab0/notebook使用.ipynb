{
 "cells": [
  {
   "cell_type": "markdown",
   "metadata": {},
   "source": [
    "# 实验 0： notebook\n",
    "Jupyter Notebook 允许你创建和共享包含实时代码、方程、可视化和文本的文档。特别适合数据科学、数学建模和算法原型设计，同时也是个很好的学习，实验新技术的强大的工具。"
   ]
  },
  {
   "cell_type": "markdown",
   "metadata": {},
   "source": [
    "单元格类型\n",
    "\n",
    "1. 代码单元：用于编写和运行代码。\n",
    "2. Markdown单元：用于添加文本、图像、链接等（使用Markdown语法）。\n"
   ]
  },
  {
   "cell_type": "markdown",
   "metadata": {},
   "source": [
    "运行单元格\n",
    "\n",
    "选择单元格，然后按 Shift + Enter 运行它。\n",
    "运行代码单元格时，输出将显示在单元格下方。"
   ]
  },
  {
   "cell_type": "code",
   "execution_count": 5,
   "metadata": {
    "dotnet_interactive": {
     "language": "csharp"
    },
    "polyglot_notebook": {
     "kernelName": "csharp"
    },
    "vscode": {
     "languageId": "polyglot-notebook"
    }
   },
   "outputs": [
    {
     "name": "stdout",
     "output_type": "stream",
     "text": [
      "Hello world\r\n"
     ]
    }
   ],
   "source": [
    "Console.WriteLine(\"Hello world\");"
   ]
  },
  {
   "cell_type": "markdown",
   "metadata": {},
   "source": []
  }
 ],
 "metadata": {
  "language_info": {
   "name": "csharp"
  },
  "orig_nbformat": 4
 },
 "nbformat": 4,
 "nbformat_minor": 2
}
