{
 "cells": [
  {
   "cell_type": "markdown",
   "metadata": {},
   "source": [
    "# 实验 0： 如何实现PDF文档对话"
   ]
  },
  {
   "cell_type": "markdown",
   "metadata": {},
   "source": [
    "用这一个常见的例子来演示使用SK来开发应用：\n",
    "    如何构建，配置semantic kernel核心\n",
    "    Prompt template, Plugin， chain的使用\n",
    "\n",
    "同时， 这是一个很好的RAG范例，借助外部记忆和Semantic Search向语言模型注入新知识。 \n"
   ]
  },
  {
   "cell_type": "markdown",
   "metadata": {},
   "source": [
    "![Diagram](img/chat-to-pdf-llm.png)"
   ]
  },
  {
   "cell_type": "markdown",
   "metadata": {},
   "source": [
    "## 基本架构\n",
    "1：PDF文件处理\n",
    "文本提取分段\n",
    "每个文本段由embedding model生成向量。 （此向量可以看作是一个都文本内容的index）\n",
    "向量与文本段同时存入向量数据库\n",
    "\n",
    "2：提问\n",
    "问题文字同意由embedding model生成向量\n",
    "用此向量对向量数据库查询，得到K个最相关的文本段落\n",
    "将K文本段落和所问问题提交给GPT，生成回答"
   ]
  }
 ],
 "metadata": {
  "language_info": {
   "name": "csharp"
  },
  "orig_nbformat": 4
 },
 "nbformat": 4,
 "nbformat_minor": 2
}
